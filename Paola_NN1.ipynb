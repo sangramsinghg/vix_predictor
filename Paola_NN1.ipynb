{
 "cells": [
  {
   "cell_type": "markdown",
   "id": "2e058901",
   "metadata": {},
   "source": [
    "# Neural Network Model"
   ]
  },
  {
   "cell_type": "code",
   "execution_count": 79,
   "id": "ef164a15",
   "metadata": {},
   "outputs": [],
   "source": [
    "# Import appropriate modules\n",
    "import pandas as pd\n",
    "from pathlib import Path\n",
    "import tensorflow as tf\n",
    "from tensorflow.keras.layers import Dense\n",
    "from tensorflow.keras.models import Sequential\n",
    "from sklearn.model_selection import train_test_split\n",
    "from sklearn.preprocessing import StandardScaler,OneHotEncoder\n",
    "import datetime\n",
    "import numpy as np\n",
    "import yfinance as yf\n",
    "from datetime import datetime\n",
    "import hvplot\n",
    "import hvplot.pandas\n",
    "import matplotlib.pyplot as plt\n",
    "from vix_functions import garch_fit_and_predict, correlation_filter, retrieve_yahoo_close, retrieve_yahoo_volume "
   ]
  },
  {
   "cell_type": "code",
   "execution_count": null,
   "id": "441944c0",
   "metadata": {},
   "outputs": [],
   "source": []
  },
  {
   "cell_type": "markdown",
   "id": "db3f2445",
   "metadata": {},
   "source": [
    "# Generation of the Features Matrix X"
   ]
  },
  {
   "cell_type": "code",
   "execution_count": 80,
   "id": "31d6e48e",
   "metadata": {},
   "outputs": [],
   "source": [
    "# Ticker List: VIX must be in first position\n",
    "ticker_list= [\"^VIX\", \"spy\", \"DX-Y.NYB\", \"tlt\", \"ief\", \"gld\", \"slv\", \"CL=F\", \"USDJPY=X\", \"FXI\", \"EZU\", \"EEM\", \"EFA\"]"
   ]
  },
  {
   "cell_type": "code",
   "execution_count": 81,
   "id": "352021c2",
   "metadata": {},
   "outputs": [
    {
     "name": "stdout",
     "output_type": "stream",
     "text": [
      "Processing Close ^VIX\n",
      "Processing Close spy\n",
      "Processing Close DX-Y.NYB\n",
      "Processing Close tlt\n",
      "Processing Close ief\n",
      "Processing Close gld\n",
      "Processing Close slv\n",
      "Processing Close CL=F\n",
      "Processing Close USDJPY=X\n",
      "Processing Close FXI\n",
      "Processing Close EZU\n",
      "Processing Close EEM\n",
      "Processing Close EFA\n",
      "Completed retrieve of close prices\n"
     ]
    }
   ],
   "source": [
    "# Inclusion of security levels X1\n",
    "def retrieve_close(close_prices_dict, ticker_list):\n",
    "    for ticker in ticker_list:\n",
    "        close_price = retrieve_yahoo_close(ticker)\n",
    "        close_prices_dict[ticker] = close_price\n",
    "    return close_prices_dict\n",
    "\n",
    "close_prices_dict = {}\n",
    "close_prices_dict = retrieve_close(close_prices_dict, ticker_list)\n",
    "print(\"Completed retrieve of close prices\")\n",
    "\n",
    "close_prices_df= pd.DataFrame(close_prices_dict)\n",
    "\n",
    "close_prices_component_df = correlation_filter(close_prices_df, min_corr=0.20, key_column='^VIX')\n",
    "\n",
    "X1=close_prices_component_df.copy()\n",
    "vix=close_prices_df['^VIX']"
   ]
  },
  {
   "cell_type": "code",
   "execution_count": 83,
   "id": "c920842d",
   "metadata": {},
   "outputs": [],
   "source": [
    "# Inclusion of security returns X2\n",
    "\n",
    "security_returns_df= close_prices_df.pct_change()\n",
    "security_returns_component_df = correlation_filter(security_returns_df, min_corr=0.20, key_column='^VIX')\n",
    "\n",
    "X2=security_returns_component_df.copy()"
   ]
  },
  {
   "cell_type": "code",
   "execution_count": 84,
   "id": "0530f927",
   "metadata": {},
   "outputs": [
    {
     "name": "stdout",
     "output_type": "stream",
     "text": [
      "Processing Volume spy\n",
      "Processing Volume DX-Y.NYB\n",
      "Processing Volume tlt\n",
      "Processing Volume ief\n",
      "Processing Volume gld\n",
      "Processing Volume slv\n",
      "Processing Volume CL=F\n",
      "Processing Volume USDJPY=X\n",
      "Processing Volume FXI\n",
      "Processing Volume EZU\n",
      "Processing Volume EEM\n",
      "Processing Volume EFA\n",
      "Completed retrieve of volume\n"
     ]
    }
   ],
   "source": [
    "# inclusion of security volume X3\n",
    "volume_list = ticker_list[1:len(ticker_list)]\n",
    "\n",
    "def retrieve_volume(volume_dict, volume_list):\n",
    "    for ticker in volume_list:        \n",
    "        volume = retrieve_yahoo_volume(ticker)\n",
    "        volume_dict[ticker] = volume\n",
    "    return volume_dict\n",
    "\n",
    "volume_dict = {}\n",
    "volume_dict = retrieve_volume(volume_dict, volume_list)\n",
    "print(\"Completed retrieve of volume\")\n",
    "\n",
    "volume_df= pd.DataFrame(volume_dict)\n",
    "volume_df_with_vix=pd.concat([vix, volume_df], axis=1)\n",
    "#print(volume_df_with_vix.corr())\n",
    "\n",
    "volume_component_df = correlation_filter(volume_df_with_vix, min_corr=0.20, key_column='^VIX', eliminate_first_column=True )\n",
    "X3=volume_component_df.copy()"
   ]
  },
  {
   "cell_type": "code",
   "execution_count": 85,
   "id": "a5522ff8",
   "metadata": {},
   "outputs": [],
   "source": [
    "# Inclusion of GARCH series X4\n",
    "garch_series=pd.DataFrame()\n",
    "\n",
    "for ticker in ticker_list:\n",
    "        garch_series[ticker]=garch_fit_and_predict(security_returns_df[ticker], horizon=1, p=1, q=1, o=1)\n",
    "\n",
    "X4=garch_series.copy()\n",
    "#X4\n"
   ]
  },
  {
   "cell_type": "code",
   "execution_count": 86,
   "id": "a3565bae",
   "metadata": {},
   "outputs": [
    {
     "data": {
      "text/html": [
       "<div>\n",
       "<style scoped>\n",
       "    .dataframe tbody tr th:only-of-type {\n",
       "        vertical-align: middle;\n",
       "    }\n",
       "\n",
       "    .dataframe tbody tr th {\n",
       "        vertical-align: top;\n",
       "    }\n",
       "\n",
       "    .dataframe thead th {\n",
       "        text-align: right;\n",
       "    }\n",
       "</style>\n",
       "<table border=\"1\" class=\"dataframe\">\n",
       "  <thead>\n",
       "    <tr style=\"text-align: right;\">\n",
       "      <th></th>\n",
       "      <th>spy</th>\n",
       "      <th>DX-Y.NYB</th>\n",
       "      <th>tlt</th>\n",
       "      <th>ief</th>\n",
       "      <th>gld</th>\n",
       "      <th>slv</th>\n",
       "      <th>FXI</th>\n",
       "      <th>EZU</th>\n",
       "      <th>EEM</th>\n",
       "      <th>EFA</th>\n",
       "    </tr>\n",
       "    <tr>\n",
       "      <th>Date</th>\n",
       "      <th></th>\n",
       "      <th></th>\n",
       "      <th></th>\n",
       "      <th></th>\n",
       "      <th></th>\n",
       "      <th></th>\n",
       "      <th></th>\n",
       "      <th></th>\n",
       "      <th></th>\n",
       "      <th></th>\n",
       "    </tr>\n",
       "  </thead>\n",
       "  <tbody>\n",
       "    <tr>\n",
       "      <th>2007-07-02</th>\n",
       "      <td>NaN</td>\n",
       "      <td>NaN</td>\n",
       "      <td>NaN</td>\n",
       "      <td>NaN</td>\n",
       "      <td>NaN</td>\n",
       "      <td>NaN</td>\n",
       "      <td>NaN</td>\n",
       "      <td>NaN</td>\n",
       "      <td>NaN</td>\n",
       "      <td>NaN</td>\n",
       "    </tr>\n",
       "    <tr>\n",
       "      <th>2007-07-03</th>\n",
       "      <td>0.000013</td>\n",
       "      <td>0.000000e+00</td>\n",
       "      <td>3.717994e-05</td>\n",
       "      <td>0.000009</td>\n",
       "      <td>0.000019</td>\n",
       "      <td>0.000020</td>\n",
       "      <td>0.000439</td>\n",
       "      <td>0.000042</td>\n",
       "      <td>6.347385e-05</td>\n",
       "      <td>2.265340e-05</td>\n",
       "    </tr>\n",
       "    <tr>\n",
       "      <th>2007-07-04</th>\n",
       "      <td>0.000000</td>\n",
       "      <td>0.000000e+00</td>\n",
       "      <td>0.000000e+00</td>\n",
       "      <td>0.000000</td>\n",
       "      <td>0.000000</td>\n",
       "      <td>0.000000</td>\n",
       "      <td>0.000000</td>\n",
       "      <td>0.000000</td>\n",
       "      <td>0.000000e+00</td>\n",
       "      <td>0.000000e+00</td>\n",
       "    </tr>\n",
       "    <tr>\n",
       "      <th>2007-07-05</th>\n",
       "      <td>0.000001</td>\n",
       "      <td>3.396638e-06</td>\n",
       "      <td>1.255806e-04</td>\n",
       "      <td>0.000031</td>\n",
       "      <td>0.000024</td>\n",
       "      <td>0.000029</td>\n",
       "      <td>0.000012</td>\n",
       "      <td>0.000027</td>\n",
       "      <td>1.964648e-05</td>\n",
       "      <td>2.480096e-05</td>\n",
       "    </tr>\n",
       "    <tr>\n",
       "      <th>2007-07-06</th>\n",
       "      <td>0.000028</td>\n",
       "      <td>9.626279e-07</td>\n",
       "      <td>1.645320e-05</td>\n",
       "      <td>0.000006</td>\n",
       "      <td>0.000070</td>\n",
       "      <td>0.000298</td>\n",
       "      <td>0.000630</td>\n",
       "      <td>0.000118</td>\n",
       "      <td>2.936444e-04</td>\n",
       "      <td>5.187246e-05</td>\n",
       "    </tr>\n",
       "    <tr>\n",
       "      <th>...</th>\n",
       "      <td>...</td>\n",
       "      <td>...</td>\n",
       "      <td>...</td>\n",
       "      <td>...</td>\n",
       "      <td>...</td>\n",
       "      <td>...</td>\n",
       "      <td>...</td>\n",
       "      <td>...</td>\n",
       "      <td>...</td>\n",
       "      <td>...</td>\n",
       "    </tr>\n",
       "    <tr>\n",
       "      <th>2021-09-27</th>\n",
       "      <td>0.000008</td>\n",
       "      <td>2.869577e-07</td>\n",
       "      <td>1.351201e-05</td>\n",
       "      <td>0.000007</td>\n",
       "      <td>0.000004</td>\n",
       "      <td>0.000123</td>\n",
       "      <td>0.000207</td>\n",
       "      <td>0.000001</td>\n",
       "      <td>4.223255e-05</td>\n",
       "      <td>3.877590e-07</td>\n",
       "    </tr>\n",
       "    <tr>\n",
       "      <th>2021-09-28</th>\n",
       "      <td>0.000406</td>\n",
       "      <td>1.744296e-05</td>\n",
       "      <td>2.426398e-04</td>\n",
       "      <td>0.000015</td>\n",
       "      <td>0.000094</td>\n",
       "      <td>0.000058</td>\n",
       "      <td>0.000002</td>\n",
       "      <td>0.000569</td>\n",
       "      <td>1.667539e-04</td>\n",
       "      <td>4.755389e-04</td>\n",
       "    </tr>\n",
       "    <tr>\n",
       "      <th>2021-09-29</th>\n",
       "      <td>0.000003</td>\n",
       "      <td>3.695060e-05</td>\n",
       "      <td>3.010235e-06</td>\n",
       "      <td>0.000001</td>\n",
       "      <td>0.000020</td>\n",
       "      <td>0.001595</td>\n",
       "      <td>0.000052</td>\n",
       "      <td>0.000024</td>\n",
       "      <td>8.679118e-05</td>\n",
       "      <td>5.257838e-06</td>\n",
       "    </tr>\n",
       "    <tr>\n",
       "      <th>2021-09-30</th>\n",
       "      <td>0.000149</td>\n",
       "      <td>9.100347e-07</td>\n",
       "      <td>1.916833e-08</td>\n",
       "      <td>0.000001</td>\n",
       "      <td>0.000323</td>\n",
       "      <td>0.000816</td>\n",
       "      <td>0.000092</td>\n",
       "      <td>0.000052</td>\n",
       "      <td>6.405172e-05</td>\n",
       "      <td>1.566647e-05</td>\n",
       "    </tr>\n",
       "    <tr>\n",
       "      <th>2021-10-01</th>\n",
       "      <td>0.000141</td>\n",
       "      <td>4.964461e-06</td>\n",
       "      <td>7.082209e-05</td>\n",
       "      <td>0.000017</td>\n",
       "      <td>0.000005</td>\n",
       "      <td>0.000228</td>\n",
       "      <td>0.000063</td>\n",
       "      <td>0.000016</td>\n",
       "      <td>9.849414e-07</td>\n",
       "      <td>5.931751e-06</td>\n",
       "    </tr>\n",
       "  </tbody>\n",
       "</table>\n",
       "<p>3720 rows × 10 columns</p>\n",
       "</div>"
      ],
      "text/plain": [
       "                 spy      DX-Y.NYB           tlt       ief       gld  \\\n",
       "Date                                                                   \n",
       "2007-07-02       NaN           NaN           NaN       NaN       NaN   \n",
       "2007-07-03  0.000013  0.000000e+00  3.717994e-05  0.000009  0.000019   \n",
       "2007-07-04  0.000000  0.000000e+00  0.000000e+00  0.000000  0.000000   \n",
       "2007-07-05  0.000001  3.396638e-06  1.255806e-04  0.000031  0.000024   \n",
       "2007-07-06  0.000028  9.626279e-07  1.645320e-05  0.000006  0.000070   \n",
       "...              ...           ...           ...       ...       ...   \n",
       "2021-09-27  0.000008  2.869577e-07  1.351201e-05  0.000007  0.000004   \n",
       "2021-09-28  0.000406  1.744296e-05  2.426398e-04  0.000015  0.000094   \n",
       "2021-09-29  0.000003  3.695060e-05  3.010235e-06  0.000001  0.000020   \n",
       "2021-09-30  0.000149  9.100347e-07  1.916833e-08  0.000001  0.000323   \n",
       "2021-10-01  0.000141  4.964461e-06  7.082209e-05  0.000017  0.000005   \n",
       "\n",
       "                 slv       FXI       EZU           EEM           EFA  \n",
       "Date                                                                  \n",
       "2007-07-02       NaN       NaN       NaN           NaN           NaN  \n",
       "2007-07-03  0.000020  0.000439  0.000042  6.347385e-05  2.265340e-05  \n",
       "2007-07-04  0.000000  0.000000  0.000000  0.000000e+00  0.000000e+00  \n",
       "2007-07-05  0.000029  0.000012  0.000027  1.964648e-05  2.480096e-05  \n",
       "2007-07-06  0.000298  0.000630  0.000118  2.936444e-04  5.187246e-05  \n",
       "...              ...       ...       ...           ...           ...  \n",
       "2021-09-27  0.000123  0.000207  0.000001  4.223255e-05  3.877590e-07  \n",
       "2021-09-28  0.000058  0.000002  0.000569  1.667539e-04  4.755389e-04  \n",
       "2021-09-29  0.001595  0.000052  0.000024  8.679118e-05  5.257838e-06  \n",
       "2021-09-30  0.000816  0.000092  0.000052  6.405172e-05  1.566647e-05  \n",
       "2021-10-01  0.000228  0.000063  0.000016  9.849414e-07  5.931751e-06  \n",
       "\n",
       "[3720 rows x 10 columns]"
      ]
     },
     "execution_count": 86,
     "metadata": {},
     "output_type": "execute_result"
    }
   ],
   "source": [
    "# Inclusion of return squares in X5\n",
    "\n",
    "returns_squared_df_no_vix= security_returns_df.drop(columns='^VIX')**2\n",
    "returns_squared_and_vix_level_df=pd.concat([vix,returns_squared_df_no_vix], axis=1)\n",
    "returns_squared_component_df = correlation_filter(returns_squared_and_vix_level_df, min_corr=0.20, key_column='^VIX', eliminate_first_column=True)\n",
    "\n",
    "X5=returns_squared_component_df.copy()\n",
    "X5"
   ]
  },
  {
   "cell_type": "markdown",
   "id": "d8fba6e1",
   "metadata": {},
   "source": [
    "### Inclusion of Google Trends"
   ]
  },
  {
   "cell_type": "code",
   "execution_count": 160,
   "id": "d2b73bda",
   "metadata": {},
   "outputs": [
    {
     "name": "stdout",
     "output_type": "stream",
     "text": [
      "./Resources/liquidity.csv\n",
      "./Resources/Jobless_claims.csv\n"
     ]
    },
    {
     "data": {
      "text/html": [
       "<div>\n",
       "<style scoped>\n",
       "    .dataframe tbody tr th:only-of-type {\n",
       "        vertical-align: middle;\n",
       "    }\n",
       "\n",
       "    .dataframe tbody tr th {\n",
       "        vertical-align: top;\n",
       "    }\n",
       "\n",
       "    .dataframe thead th {\n",
       "        text-align: right;\n",
       "    }\n",
       "</style>\n",
       "<table border=\"1\" class=\"dataframe\">\n",
       "  <thead>\n",
       "    <tr style=\"text-align: right;\">\n",
       "      <th></th>\n",
       "      <th>liquidity: (United States)</th>\n",
       "      <th>Jobless claims: (United States)</th>\n",
       "    </tr>\n",
       "    <tr>\n",
       "      <th>Date</th>\n",
       "      <th></th>\n",
       "      <th></th>\n",
       "    </tr>\n",
       "  </thead>\n",
       "  <tbody>\n",
       "    <tr>\n",
       "      <th>2016-10-09</th>\n",
       "      <td>31</td>\n",
       "      <td>0</td>\n",
       "    </tr>\n",
       "    <tr>\n",
       "      <th>2016-10-16</th>\n",
       "      <td>54</td>\n",
       "      <td>0</td>\n",
       "    </tr>\n",
       "    <tr>\n",
       "      <th>2016-10-23</th>\n",
       "      <td>42</td>\n",
       "      <td>0</td>\n",
       "    </tr>\n",
       "    <tr>\n",
       "      <th>2016-10-30</th>\n",
       "      <td>38</td>\n",
       "      <td>0</td>\n",
       "    </tr>\n",
       "    <tr>\n",
       "      <th>2016-11-06</th>\n",
       "      <td>32</td>\n",
       "      <td>0</td>\n",
       "    </tr>\n",
       "    <tr>\n",
       "      <th>...</th>\n",
       "      <td>...</td>\n",
       "      <td>...</td>\n",
       "    </tr>\n",
       "    <tr>\n",
       "      <th>2021-09-05</th>\n",
       "      <td>31</td>\n",
       "      <td>0</td>\n",
       "    </tr>\n",
       "    <tr>\n",
       "      <th>2021-09-12</th>\n",
       "      <td>43</td>\n",
       "      <td>0</td>\n",
       "    </tr>\n",
       "    <tr>\n",
       "      <th>2021-09-19</th>\n",
       "      <td>37</td>\n",
       "      <td>9</td>\n",
       "    </tr>\n",
       "    <tr>\n",
       "      <th>2021-09-26</th>\n",
       "      <td>39</td>\n",
       "      <td>0</td>\n",
       "    </tr>\n",
       "    <tr>\n",
       "      <th>2021-10-03</th>\n",
       "      <td>47</td>\n",
       "      <td>0</td>\n",
       "    </tr>\n",
       "  </tbody>\n",
       "</table>\n",
       "<p>261 rows × 2 columns</p>\n",
       "</div>"
      ],
      "text/plain": [
       "            liquidity: (United States)  Jobless claims: (United States)\n",
       "Date                                                                   \n",
       "2016-10-09                          31                                0\n",
       "2016-10-16                          54                                0\n",
       "2016-10-23                          42                                0\n",
       "2016-10-30                          38                                0\n",
       "2016-11-06                          32                                0\n",
       "...                                ...                              ...\n",
       "2021-09-05                          31                                0\n",
       "2021-09-12                          43                                0\n",
       "2021-09-19                          37                                9\n",
       "2021-09-26                          39                                0\n",
       "2021-10-03                          47                                0\n",
       "\n",
       "[261 rows x 2 columns]"
      ]
     },
     "execution_count": 160,
     "metadata": {},
     "output_type": "execute_result"
    }
   ],
   "source": [
    "# Upload of csv files\n",
    "keywords=['liquidity', 'Jobless_claims']\n",
    "google_trends_df=pd.DataFrame()\n",
    "\n",
    "for keyword in keywords:\n",
    "    file_path=f\"./Resources/{keyword}.csv\"\n",
    "    print(file_path)\n",
    "    trend=pd.read_csv(Path(file_path),\n",
    "                      index_col= 'Date', \n",
    "                      parse_dates= True,\n",
    "                      infer_datetime_format=True)\n",
    "    google_trends_df=pd.concat([google_trends_df, trend], axis=1)\n",
    "\n",
    "google_trends_df"
   ]
  },
  {
   "cell_type": "code",
   "execution_count": 173,
   "id": "d5f20b34",
   "metadata": {},
   "outputs": [],
   "source": [
    "# We will interpolate with degree 2 in case of missing values\n",
    "google_trends_df.iloc[0,:]=0\n",
    "\n",
    "vix_google_trends_df=pd.concat([vix, google_trends_df], axis=1)\n",
    "vix_google_trends_df.iloc[0,1:]=0\n",
    "vix_google_trends_df.head(20)\n",
    "\n",
    "vix_google_trends_df=vix_google_trends_df.interpolate(method=\"polynomial\", order=2)"
   ]
  },
  {
   "cell_type": "code",
   "execution_count": 179,
   "id": "0a4e743c",
   "metadata": {},
   "outputs": [
    {
     "data": {
      "text/html": [
       "<div>\n",
       "<style scoped>\n",
       "    .dataframe tbody tr th:only-of-type {\n",
       "        vertical-align: middle;\n",
       "    }\n",
       "\n",
       "    .dataframe tbody tr th {\n",
       "        vertical-align: top;\n",
       "    }\n",
       "\n",
       "    .dataframe thead th {\n",
       "        text-align: right;\n",
       "    }\n",
       "</style>\n",
       "<table border=\"1\" class=\"dataframe\">\n",
       "  <thead>\n",
       "    <tr style=\"text-align: right;\">\n",
       "      <th></th>\n",
       "      <th>liquidity: (United States)</th>\n",
       "      <th>Jobless claims: (United States)</th>\n",
       "    </tr>\n",
       "    <tr>\n",
       "      <th>Date</th>\n",
       "      <th></th>\n",
       "      <th></th>\n",
       "    </tr>\n",
       "  </thead>\n",
       "  <tbody>\n",
       "    <tr>\n",
       "      <th>2007-07-02</th>\n",
       "      <td>0.000000</td>\n",
       "      <td>0.000000</td>\n",
       "    </tr>\n",
       "    <tr>\n",
       "      <th>2007-07-03</th>\n",
       "      <td>-9.351484</td>\n",
       "      <td>-0.000046</td>\n",
       "    </tr>\n",
       "    <tr>\n",
       "      <th>2007-07-04</th>\n",
       "      <td>-18.697444</td>\n",
       "      <td>-0.000093</td>\n",
       "    </tr>\n",
       "    <tr>\n",
       "      <th>2007-07-05</th>\n",
       "      <td>-28.037881</td>\n",
       "      <td>-0.000139</td>\n",
       "    </tr>\n",
       "    <tr>\n",
       "      <th>2007-07-06</th>\n",
       "      <td>-37.372794</td>\n",
       "      <td>-0.000185</td>\n",
       "    </tr>\n",
       "    <tr>\n",
       "      <th>...</th>\n",
       "      <td>...</td>\n",
       "      <td>...</td>\n",
       "    </tr>\n",
       "    <tr>\n",
       "      <th>2021-09-28</th>\n",
       "      <td>40.817461</td>\n",
       "      <td>-1.479368</td>\n",
       "    </tr>\n",
       "    <tr>\n",
       "      <th>2021-09-29</th>\n",
       "      <td>41.866667</td>\n",
       "      <td>-1.775242</td>\n",
       "    </tr>\n",
       "    <tr>\n",
       "      <th>2021-09-30</th>\n",
       "      <td>43.009524</td>\n",
       "      <td>-1.775242</td>\n",
       "    </tr>\n",
       "    <tr>\n",
       "      <th>2021-10-01</th>\n",
       "      <td>44.246032</td>\n",
       "      <td>-1.479368</td>\n",
       "    </tr>\n",
       "    <tr>\n",
       "      <th>2021-10-03</th>\n",
       "      <td>47.000000</td>\n",
       "      <td>0.000000</td>\n",
       "    </tr>\n",
       "  </tbody>\n",
       "</table>\n",
       "<p>3981 rows × 2 columns</p>\n",
       "</div>"
      ],
      "text/plain": [
       "            liquidity: (United States)  Jobless claims: (United States)\n",
       "Date                                                                   \n",
       "2007-07-02                    0.000000                         0.000000\n",
       "2007-07-03                   -9.351484                        -0.000046\n",
       "2007-07-04                  -18.697444                        -0.000093\n",
       "2007-07-05                  -28.037881                        -0.000139\n",
       "2007-07-06                  -37.372794                        -0.000185\n",
       "...                                ...                              ...\n",
       "2021-09-28                   40.817461                        -1.479368\n",
       "2021-09-29                   41.866667                        -1.775242\n",
       "2021-09-30                   43.009524                        -1.775242\n",
       "2021-10-01                   44.246032                        -1.479368\n",
       "2021-10-03                   47.000000                         0.000000\n",
       "\n",
       "[3981 rows x 2 columns]"
      ]
     },
     "execution_count": 179,
     "metadata": {},
     "output_type": "execute_result"
    }
   ],
   "source": [
    "# Filtering by correlation X6\n",
    "\n",
    "\n",
    "google_trends_component_df = correlation_filter(\n",
    "                                vix_google_trends_df, \n",
    "                                min_corr=0.05, \n",
    "                                key_column='^VIX', \n",
    "                                eliminate_first_column=True)\n",
    "\n",
    "X6=google_trends_component_df.copy()\n",
    "\n"
   ]
  },
  {
   "cell_type": "markdown",
   "id": "1e60b90e",
   "metadata": {},
   "source": [
    "# GENERATION OF THE FEATURE MATRIX **X**"
   ]
  },
  {
   "cell_type": "code",
   "execution_count": 186,
   "id": "a9807dcc",
   "metadata": {},
   "outputs": [],
   "source": [
    "# Concatenation of all sources of data\n",
    "X=pd.concat([X1, X2, X3, X4, X5, X6], axis=1)\n",
    "#print(\"X without interpolation\")\n",
    "#print(X)\n",
    "\n",
    "# Fill missing values with interpolation\n",
    "X=X.interpolate(method=\"polynomial\", order=2)\n",
    "#print(X)\n",
    "#print(\"X with interpolation\")\n",
    "\n",
    "# Drop first or last rows if they are NA\n",
    "X=X.dropna()\n",
    "#print(\"X after drop Nan\")\n",
    "#print(X)"
   ]
  },
  {
   "cell_type": "code",
   "execution_count": 10,
   "id": "52400703",
   "metadata": {},
   "outputs": [],
   "source": [
    "# Inclusion of different lags of data from the X -- up to n_lag\n",
    "\n"
   ]
  },
  {
   "cell_type": "code",
   "execution_count": 11,
   "id": "27f73fdd",
   "metadata": {},
   "outputs": [],
   "source": [
    "# Shift data"
   ]
  },
  {
   "cell_type": "code",
   "execution_count": null,
   "id": "1a7d9a48",
   "metadata": {},
   "outputs": [],
   "source": []
  },
  {
   "cell_type": "code",
   "execution_count": null,
   "id": "721a3552",
   "metadata": {},
   "outputs": [],
   "source": []
  },
  {
   "cell_type": "code",
   "execution_count": 12,
   "id": "418add89",
   "metadata": {
    "jupyter": {
     "source_hidden": true
    }
   },
   "outputs": [
    {
     "ename": "NameError",
     "evalue": "name 'gtd_tdf' is not defined",
     "output_type": "error",
     "traceback": [
      "\u001b[0;31m---------------------------------------------------------------------------\u001b[0m",
      "\u001b[0;31mNameError\u001b[0m                                 Traceback (most recent call last)",
      "\u001b[0;32m<ipython-input-12-96ca9ff3cac7>\u001b[0m in \u001b[0;36m<module>\u001b[0;34m\u001b[0m\n\u001b[1;32m      1\u001b[0m \u001b[0;31m# Set the Signal column\u001b[0m\u001b[0;34m\u001b[0m\u001b[0;34m\u001b[0m\u001b[0;34m\u001b[0m\u001b[0m\n\u001b[0;32m----> 2\u001b[0;31m \u001b[0mgtd_tdf\u001b[0m\u001b[0;34m[\u001b[0m\u001b[0;34m\"Signal\"\u001b[0m\u001b[0;34m]\u001b[0m \u001b[0;34m=\u001b[0m \u001b[0;36m0.0\u001b[0m\u001b[0;34m\u001b[0m\u001b[0;34m\u001b[0m\u001b[0m\n\u001b[0m\u001b[1;32m      3\u001b[0m \u001b[0;34m\u001b[0m\u001b[0m\n\u001b[1;32m      4\u001b[0m \u001b[0;31m# Generate the trading signals 1 (entry) or -1 (exit)\u001b[0m\u001b[0;34m\u001b[0m\u001b[0;34m\u001b[0m\u001b[0;34m\u001b[0m\u001b[0m\n\u001b[1;32m      5\u001b[0m \u001b[0;31m# where 1 is when the ^VIX is greater than 3.6%.\u001b[0m\u001b[0;34m\u001b[0m\u001b[0;34m\u001b[0m\u001b[0;34m\u001b[0m\u001b[0m\n",
      "\u001b[0;31mNameError\u001b[0m: name 'gtd_tdf' is not defined"
     ]
    }
   ],
   "source": [
    "# Set the Signal column\n",
    "gtd_tdf[\"Signal\"] = 0.0\n",
    "\n",
    "# Generate the trading signals 1 (entry) or -1 (exit)\n",
    "# where 1 is when the ^VIX is greater than 3.6%.\n",
    "# where 0 is when the ^VIX  is less than 3.6%.\n",
    "for index, row in gtd_tdf.iterrows():\n",
    "    if row[\"^VIX\"] > 0.036:\n",
    "        gtd_tdf.loc[index, \"Signal\"] = 1.0\n",
    "    if row[\"^VIX\"] < 0.036:\n",
    "        gtd_tdf.loc[index,\"Signal\"] =  0.0\n",
    "# Review the DataFrame\n",
    "gtd_tdf.head()        \n"
   ]
  },
  {
   "cell_type": "code",
   "execution_count": null,
   "id": "e746fbba",
   "metadata": {},
   "outputs": [],
   "source": []
  },
  {
   "cell_type": "code",
   "execution_count": null,
   "id": "3e81b836",
   "metadata": {
    "jupyter": {
     "source_hidden": true
    }
   },
   "outputs": [],
   "source": [
    "# Define the target set y using the Signal column\n",
    "y = gtd_tdf[\"Signal\"].values\n",
    "# Display a sample of y\n",
    "y"
   ]
  },
  {
   "cell_type": "code",
   "execution_count": null,
   "id": "df2a0ab1",
   "metadata": {
    "jupyter": {
     "source_hidden": true
    }
   },
   "outputs": [],
   "source": [
    "# Define features set X by selecting all columns but Signal\n",
    "X = gtd_tdf.drop(columns=[\"Signal\"])\n",
    "\n",
    "# Review the features DataFrame\n",
    "X.head()"
   ]
  },
  {
   "cell_type": "code",
   "execution_count": null,
   "id": "a492f236",
   "metadata": {
    "jupyter": {
     "source_hidden": true
    }
   },
   "outputs": [],
   "source": [
    "# Split the preprocessed data into a training and testing dataset\n",
    "# Assign the function a random_state equal to 1\n",
    "X_train, X_test, y_train, y_test = train_test_split(X, y, random_state=1)\n"
   ]
  },
  {
   "cell_type": "code",
   "execution_count": null,
   "id": "18d955c0",
   "metadata": {
    "jupyter": {
     "source_hidden": true
    }
   },
   "outputs": [],
   "source": [
    "# Create a StandardScaler instance\n",
    "scaler = StandardScaler()\n",
    "\n",
    "# Fit the scaler to the features training dataset\n",
    "X_scaler = scaler.fit(X_train)\n",
    "\n",
    "# Fit the scaler to the features training dataset\n",
    "X_train_scaled = X_scaler.transform(X_train)\n",
    "X_test_scaled = X_scaler.transform(X_test)\n"
   ]
  },
  {
   "cell_type": "code",
   "execution_count": null,
   "id": "f6139f3e",
   "metadata": {
    "jupyter": {
     "source_hidden": true
    }
   },
   "outputs": [],
   "source": [
    "# Define the the number of inputs (features) to the model\n",
    "number_input_features = X.shape[1]\n",
    "\n",
    "# Review the number of features\n",
    "number_input_features"
   ]
  },
  {
   "cell_type": "code",
   "execution_count": null,
   "id": "c99631e7",
   "metadata": {
    "jupyter": {
     "source_hidden": true
    }
   },
   "outputs": [],
   "source": [
    "# Define the number of neurons in the output layer\n",
    "number_output_neurons = 1"
   ]
  },
  {
   "cell_type": "code",
   "execution_count": null,
   "id": "82f8d6e5",
   "metadata": {},
   "outputs": [],
   "source": [
    "# Define the number of hidden nodes for the first hidden layer - use the square root of the number of input features times number of output neurons\n",
    "hidden_nodes_layer1 =  int(np.ceil(np.sqrt(number_input_features * number_output_neurons)))\n",
    "\n",
    "# Review the number hidden nodes in the first layer\n",
    "hidden_nodes_layer1\n"
   ]
  },
  {
   "cell_type": "code",
   "execution_count": null,
   "id": "7b62da70",
   "metadata": {
    "jupyter": {
     "source_hidden": true
    }
   },
   "outputs": [],
   "source": [
    "# Define the number of hidden nodes for the second hidden layer - hidden layer neurons divided by 2\n",
    "hidden_nodes_layer2 =  int(np.floor(hidden_nodes_layer1/2))\n",
    "\n",
    "# Review the number hidden nodes in the second layer\n",
    "hidden_nodes_layer2"
   ]
  },
  {
   "cell_type": "code",
   "execution_count": null,
   "id": "23974506",
   "metadata": {
    "jupyter": {
     "source_hidden": true
    }
   },
   "outputs": [],
   "source": [
    "# Create the Sequential model instance\n",
    "nn = Sequential()"
   ]
  },
  {
   "cell_type": "code",
   "execution_count": null,
   "id": "ff42c0b9",
   "metadata": {
    "jupyter": {
     "source_hidden": true
    }
   },
   "outputs": [],
   "source": [
    "# Add the first hidden layer\n",
    "nn.add(Dense(input_dim=number_input_features, units=hidden_nodes_layer1, activation=\"relu\"))"
   ]
  },
  {
   "cell_type": "code",
   "execution_count": null,
   "id": "31feb46b",
   "metadata": {
    "jupyter": {
     "source_hidden": true
    }
   },
   "outputs": [],
   "source": [
    "# Add the second hidden layer\n",
    "nn.add(Dense(units=hidden_nodes_layer2, activation=\"relu\"))"
   ]
  },
  {
   "cell_type": "code",
   "execution_count": null,
   "id": "7930eed9",
   "metadata": {
    "jupyter": {
     "source_hidden": true
    }
   },
   "outputs": [],
   "source": [
    "# Add the output layer to the model specifying the number of output neurons and activation function\n",
    "nn.add(Dense(units=number_output_neurons, activation=\"sigmoid\"))"
   ]
  },
  {
   "cell_type": "code",
   "execution_count": null,
   "id": "b2ee2ccc",
   "metadata": {
    "jupyter": {
     "source_hidden": true
    }
   },
   "outputs": [],
   "source": [
    "# Display the Sequential model summary\n",
    "nn.summary()"
   ]
  },
  {
   "cell_type": "code",
   "execution_count": null,
   "id": "9800dc62",
   "metadata": {
    "jupyter": {
     "source_hidden": true
    }
   },
   "outputs": [],
   "source": [
    "# Compile the Sequential model\n",
    "nn.compile(loss=\"binary_crossentropy\", optimizer=\"adam\", metrics=[\"accuracy\"])"
   ]
  },
  {
   "cell_type": "code",
   "execution_count": null,
   "id": "326deda6",
   "metadata": {
    "jupyter": {
     "source_hidden": true
    }
   },
   "outputs": [],
   "source": [
    "# Fit the model using 50 epochs and the training data\n",
    "model_1 = nn.fit(X_train_scaled, y_train, epochs=50)"
   ]
  },
  {
   "cell_type": "code",
   "execution_count": null,
   "id": "2527ab9c",
   "metadata": {
    "jupyter": {
     "source_hidden": true
    }
   },
   "outputs": [],
   "source": [
    "# Evaluate the model loss and accuracy metrics using the evaluate method and the test data\n",
    "model_loss, model_accuracy = nn.evaluate(X_test_scaled, y_test, verbose=2)\n",
    "\n",
    "# Display the model loss and accuracy results\n",
    "print(f\"Loss: {model_loss}, Accuracy: {model_accuracy}\")"
   ]
  },
  {
   "cell_type": "code",
   "execution_count": null,
   "id": "14576585",
   "metadata": {},
   "outputs": [],
   "source": []
  },
  {
   "cell_type": "markdown",
   "id": "e7ade52f",
   "metadata": {},
   "source": [
    "# Generation of the Features Matrix X"
   ]
  },
  {
   "cell_type": "code",
   "execution_count": null,
   "id": "964f5bee",
   "metadata": {},
   "outputs": [],
   "source": [
    "ticker_list= [\"^VIX\", \"spy\", \"DX-Y.NYB\", \"tlt\", \"ief\", \"gld\", \"slv\", \"CL=F\", \"USDJPY=X\", \"VXX\", \"FXI\", \"EZU\", \"EEM\", \"EFA\"]"
   ]
  },
  {
   "cell_type": "code",
   "execution_count": null,
   "id": "f1432b9c",
   "metadata": {},
   "outputs": [],
   "source": [
    "# Inclusion of security levels\n",
    "\n",
    "X=\n",
    "\n",
    "#select items the series that have a correlation of 0.20 or more"
   ]
  },
  {
   "cell_type": "code",
   "execution_count": null,
   "id": "1cce18b5",
   "metadata": {},
   "outputs": [],
   "source": [
    "# Inclusion of security returns"
   ]
  },
  {
   "cell_type": "code",
   "execution_count": null,
   "id": "c8139661",
   "metadata": {},
   "outputs": [],
   "source": [
    "# inclusion of security volume"
   ]
  },
  {
   "cell_type": "code",
   "execution_count": null,
   "id": "7345cbf0",
   "metadata": {},
   "outputs": [],
   "source": [
    "# Inclusion of GARCH series"
   ]
  },
  {
   "cell_type": "code",
   "execution_count": null,
   "id": "a202b3a1",
   "metadata": {},
   "outputs": [],
   "source": [
    "# Inclusion of return squares in X"
   ]
  },
  {
   "cell_type": "code",
   "execution_count": null,
   "id": "274f00d1",
   "metadata": {},
   "outputs": [],
   "source": [
    "# Inclusion of leading indicator series"
   ]
  },
  {
   "cell_type": "code",
   "execution_count": null,
   "id": "9d1b635e",
   "metadata": {},
   "outputs": [],
   "source": [
    "# Inclusion of Google Trends"
   ]
  },
  {
   "cell_type": "code",
   "execution_count": null,
   "id": "323dea3b",
   "metadata": {},
   "outputs": [],
   "source": [
    "# Inclusion of different lags of data from the X -- up to n_lag"
   ]
  },
  {
   "cell_type": "code",
   "execution_count": null,
   "id": "152985c0",
   "metadata": {},
   "outputs": [],
   "source": [
    "# Shift data"
   ]
  },
  {
   "cell_type": "code",
   "execution_count": null,
   "id": "a6be1cd6",
   "metadata": {},
   "outputs": [],
   "source": []
  },
  {
   "cell_type": "code",
   "execution_count": null,
   "id": "64340b40",
   "metadata": {},
   "outputs": [],
   "source": []
  },
  {
   "cell_type": "code",
   "execution_count": null,
   "id": "d2efce97",
   "metadata": {
    "jupyter": {
     "source_hidden": true
    }
   },
   "outputs": [],
   "source": [
    "# Set the Signal column\n",
    "gtd_tdf[\"Signal\"] = 0.0\n",
    "\n",
    "# Generate the trading signals 1 (entry) or -1 (exit)\n",
    "# where 1 is when the ^VIX is greater than 3.6%.\n",
    "# where 0 is when the ^VIX  is less than 3.6%.\n",
    "for index, row in gtd_tdf.iterrows():\n",
    "    if row[\"^VIX\"] > 0.036:\n",
    "        gtd_tdf.loc[index, \"Signal\"] = 1.0\n",
    "    if row[\"^VIX\"] < 0.036:\n",
    "        gtd_tdf.loc[index,\"Signal\"] =  0.0\n",
    "# Review the DataFrame\n",
    "gtd_tdf.head()        \n"
   ]
  },
  {
   "cell_type": "code",
   "execution_count": null,
   "id": "7ea5cbf3",
   "metadata": {},
   "outputs": [],
   "source": []
  },
  {
   "cell_type": "code",
   "execution_count": null,
   "id": "487837b8",
   "metadata": {
    "jupyter": {
     "source_hidden": true
    }
   },
   "outputs": [],
   "source": [
    "# Define the target set y using the Signal column\n",
    "y = gtd_tdf[\"Signal\"].values\n",
    "# Display a sample of y\n",
    "y"
   ]
  },
  {
   "cell_type": "code",
   "execution_count": null,
   "id": "5e24a026",
   "metadata": {
    "jupyter": {
     "source_hidden": true
    }
   },
   "outputs": [],
   "source": [
    "# Define features set X by selecting all columns but Signal\n",
    "X = gtd_tdf.drop(columns=[\"Signal\"])\n",
    "\n",
    "# Review the features DataFrame\n",
    "X.head()"
   ]
  },
  {
   "cell_type": "code",
   "execution_count": null,
   "id": "d6bf7c94",
   "metadata": {
    "jupyter": {
     "source_hidden": true
    }
   },
   "outputs": [],
   "source": [
    "# Split the preprocessed data into a training and testing dataset\n",
    "# Assign the function a random_state equal to 1\n",
    "X_train, X_test, y_train, y_test = train_test_split(X, y, random_state=1)\n"
   ]
  },
  {
   "cell_type": "code",
   "execution_count": null,
   "id": "25d06ce1",
   "metadata": {
    "jupyter": {
     "source_hidden": true
    }
   },
   "outputs": [],
   "source": [
    "# Create a StandardScaler instance\n",
    "scaler = StandardScaler()\n",
    "\n",
    "# Fit the scaler to the features training dataset\n",
    "X_scaler = scaler.fit(X_train)\n",
    "\n",
    "# Fit the scaler to the features training dataset\n",
    "X_train_scaled = X_scaler.transform(X_train)\n",
    "X_test_scaled = X_scaler.transform(X_test)\n"
   ]
  },
  {
   "cell_type": "code",
   "execution_count": null,
   "id": "3e842aa9",
   "metadata": {
    "jupyter": {
     "source_hidden": true
    }
   },
   "outputs": [],
   "source": [
    "# Define the the number of inputs (features) to the model\n",
    "number_input_features = X.shape[1]\n",
    "\n",
    "# Review the number of features\n",
    "number_input_features"
   ]
  },
  {
   "cell_type": "code",
   "execution_count": null,
   "id": "d5db3dee",
   "metadata": {
    "jupyter": {
     "source_hidden": true
    }
   },
   "outputs": [],
   "source": [
    "# Define the number of neurons in the output layer\n",
    "number_output_neurons = 1"
   ]
  },
  {
   "cell_type": "code",
   "execution_count": null,
   "id": "4742fe3f",
   "metadata": {},
   "outputs": [],
   "source": [
    "# Define the number of hidden nodes for the first hidden layer - use the square root of the number of input features times number of output neurons\n",
    "hidden_nodes_layer1 =  int(np.ceil(np.sqrt(number_input_features * number_output_neurons)))\n",
    "\n",
    "# Review the number hidden nodes in the first layer\n",
    "hidden_nodes_layer1\n"
   ]
  },
  {
   "cell_type": "code",
   "execution_count": null,
   "id": "bc8056df",
   "metadata": {
    "jupyter": {
     "source_hidden": true
    }
   },
   "outputs": [],
   "source": [
    "# Define the number of hidden nodes for the second hidden layer - hidden layer neurons divided by 2\n",
    "hidden_nodes_layer2 =  int(np.floor(hidden_nodes_layer1/2))\n",
    "\n",
    "# Review the number hidden nodes in the second layer\n",
    "hidden_nodes_layer2"
   ]
  },
  {
   "cell_type": "code",
   "execution_count": null,
   "id": "b90457a3",
   "metadata": {
    "jupyter": {
     "source_hidden": true
    }
   },
   "outputs": [],
   "source": [
    "# Create the Sequential model instance\n",
    "nn = Sequential()"
   ]
  },
  {
   "cell_type": "code",
   "execution_count": null,
   "id": "5d803110",
   "metadata": {
    "jupyter": {
     "source_hidden": true
    }
   },
   "outputs": [],
   "source": [
    "# Add the first hidden layer\n",
    "nn.add(Dense(input_dim=number_input_features, units=hidden_nodes_layer1, activation=\"relu\"))"
   ]
  },
  {
   "cell_type": "code",
   "execution_count": null,
   "id": "01d80d00",
   "metadata": {
    "jupyter": {
     "source_hidden": true
    }
   },
   "outputs": [],
   "source": [
    "# Add the second hidden layer\n",
    "nn.add(Dense(units=hidden_nodes_layer2, activation=\"relu\"))"
   ]
  },
  {
   "cell_type": "code",
   "execution_count": null,
   "id": "c40007c4",
   "metadata": {
    "jupyter": {
     "source_hidden": true
    }
   },
   "outputs": [],
   "source": [
    "# Add the output layer to the model specifying the number of output neurons and activation function\n",
    "nn.add(Dense(units=number_output_neurons, activation=\"sigmoid\"))"
   ]
  },
  {
   "cell_type": "code",
   "execution_count": null,
   "id": "74fb44bd",
   "metadata": {
    "jupyter": {
     "source_hidden": true
    }
   },
   "outputs": [],
   "source": [
    "# Display the Sequential model summary\n",
    "nn.summary()"
   ]
  },
  {
   "cell_type": "code",
   "execution_count": null,
   "id": "3e2005b0",
   "metadata": {
    "jupyter": {
     "source_hidden": true
    }
   },
   "outputs": [],
   "source": [
    "# Compile the Sequential model\n",
    "nn.compile(loss=\"binary_crossentropy\", optimizer=\"adam\", metrics=[\"accuracy\"])"
   ]
  },
  {
   "cell_type": "code",
   "execution_count": null,
   "id": "4aaf3812",
   "metadata": {
    "jupyter": {
     "source_hidden": true
    }
   },
   "outputs": [],
   "source": [
    "# Fit the model using 50 epochs and the training data\n",
    "model_1 = nn.fit(X_train_scaled, y_train, epochs=50)"
   ]
  },
  {
   "cell_type": "code",
   "execution_count": null,
   "id": "43eafb95",
   "metadata": {
    "jupyter": {
     "source_hidden": true
    }
   },
   "outputs": [],
   "source": [
    "# Evaluate the model loss and accuracy metrics using the evaluate method and the test data\n",
    "model_loss, model_accuracy = nn.evaluate(X_test_scaled, y_test, verbose=2)\n",
    "\n",
    "# Display the model loss and accuracy results\n",
    "print(f\"Loss: {model_loss}, Accuracy: {model_accuracy}\")"
   ]
  },
  {
   "cell_type": "code",
   "execution_count": null,
   "id": "57408814",
   "metadata": {},
   "outputs": [],
   "source": []
  }
 ],
 "metadata": {
  "kernelspec": {
   "display_name": "Python (dev)",
   "language": "python",
   "name": "dev"
  },
  "language_info": {
   "codemirror_mode": {
    "name": "ipython",
    "version": 3
   },
   "file_extension": ".py",
   "mimetype": "text/x-python",
   "name": "python",
   "nbconvert_exporter": "python",
   "pygments_lexer": "ipython3",
   "version": "3.7.10"
  }
 },
 "nbformat": 4,
 "nbformat_minor": 5
}
